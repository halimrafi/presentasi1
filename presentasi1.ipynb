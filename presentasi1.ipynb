{
  "nbformat": 4,
  "nbformat_minor": 0,
  "metadata": {
    "colab": {
      "provenance": [],
      "authorship_tag": "ABX9TyOehmfi41/ecPnsVuQasTd7",
      "include_colab_link": true
    },
    "kernelspec": {
      "name": "python3",
      "display_name": "Python 3"
    },
    "language_info": {
      "name": "python"
    }
  },
  "cells": [
    {
      "cell_type": "markdown",
      "metadata": {
        "id": "view-in-github",
        "colab_type": "text"
      },
      "source": [
        "<a href=\"https://colab.research.google.com/github/halimrafi/presentasi1/blob/main/presentasi1.ipynb\" target=\"_parent\"><img src=\"https://colab.research.google.com/assets/colab-badge.svg\" alt=\"Open In Colab\"/></a>"
      ]
    },
    {
      "cell_type": "code",
      "source": [
        "nama_acak=['Evi','Aldi','Bintang','Mega','Erico','Deya']\n",
        "nama_acak.sort()\n",
        "print(nama_acak)"
      ],
      "metadata": {
        "colab": {
          "base_uri": "https://localhost:8080/"
        },
        "id": "0HjVEr0ovPKu",
        "outputId": "428c0fc7-6ba1-4a4c-c290-462996361c95"
      },
      "execution_count": 2,
      "outputs": [
        {
          "output_type": "stream",
          "name": "stdout",
          "text": [
            "['Aldi', 'Bintang', 'Deya', 'Erico', 'Evi', 'Mega']\n"
          ]
        }
      ]
    }
  ]
}